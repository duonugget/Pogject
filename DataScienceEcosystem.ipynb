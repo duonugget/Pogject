{
 "cells": [
  {
   "cell_type": "markdown",
   "id": "a0d2516c-1a01-476d-9b11-325833f4b380",
   "metadata": {},
   "source": [
    "# Data Science Tools and Ecosystem"
   ]
  },
  {
   "cell_type": "markdown",
   "id": "b2eaa900-eea3-4ade-ad2d-6e8b2592363e",
   "metadata": {},
   "source": [
    "In this notebook, Data Science Tools and Ecosystem are summarized."
   ]
  },
  {
   "cell_type": "markdown",
   "id": "174fd57d-5545-474f-a5c9-ff313f48bfd1",
   "metadata": {},
   "source": [
    "Some of the popular languages that Data Scientists use are:\n",
    "1. Python\n",
    "2. R\n",
    "3. Julia\n",
    "4. SQL"
   ]
  },
  {
   "cell_type": "markdown",
   "id": "58b9d6e3-5f09-4f44-b1df-41c61d16e31a",
   "metadata": {},
   "source": [
    "Some of the commonly used libraries used by Data Scientists include:\n",
    "1. Pandas \n",
    "2. NumPy\n",
    "3. Matplotlib\n",
    "4. Scikit-learn"
   ]
  },
  {
   "cell_type": "markdown",
   "id": "faa32ca5-708d-4b9e-b601-4a817fdb9d72",
   "metadata": {},
   "source": [
    "| Data Science Tools |\n",
    "| ----- |\n",
    "| Jupyter Notebook |\n",
    "| Rstudio |\n",
    "| Visual Studio |\n"
   ]
  },
  {
   "cell_type": "markdown",
   "id": "895cf688-af8e-45b3-b86f-8cc5fe2ca891",
   "metadata": {},
   "source": [
    "### Below are a few examples of evaluating arithmetic expressions in Python:\n"
   ]
  },
  {
   "cell_type": "code",
   "execution_count": 5,
   "id": "3a3a57b6-7c85-4ffa-9826-62cfc42a4d0b",
   "metadata": {},
   "outputs": [
    {
     "data": {
      "text/plain": [
       "17"
      ]
     },
     "execution_count": 5,
     "metadata": {},
     "output_type": "execute_result"
    }
   ],
   "source": [
    "(3*4)+5\n",
    "#This a simple arithmetic expression to mutiply then add integers\n"
   ]
  },
  {
   "cell_type": "code",
   "execution_count": 12,
   "id": "9b18425e-a579-4e3c-9ef3-e9362e0f5b5e",
   "metadata": {},
   "outputs": [
    {
     "name": "stdout",
     "output_type": "stream",
     "text": [
      "200 minutes is approximately equal to 3.3333333333333335 hours\n"
     ]
    }
   ],
   "source": [
    "#This will convert 200 minutes to hours by diving by 60\n",
    "hours = str(200.0/60)\n",
    "print (\"200 minutes is approximately equal to \" + hours + \" hours\")"
   ]
  },
  {
   "cell_type": "markdown",
   "id": "f46cd221-d1ec-4b6a-8cab-70665ba2c094",
   "metadata": {},
   "source": [
    "**Objectives:**\n",
    "- List of popular language in Data Science\n",
    "- List of commonly libraries in Data Science\n",
    "- Introduction to arithmetic evaluation in Python"
   ]
  },
  {
   "cell_type": "markdown",
   "id": "880779df-25d7-4f04-b81a-1f07f8c2eaa8",
   "metadata": {},
   "source": [
    "## Author\n",
    "Nguyen Duong"
   ]
  }
 ],
 "metadata": {
  "kernelspec": {
   "display_name": "Python 3 (ipykernel)",
   "language": "python",
   "name": "python3"
  },
  "language_info": {
   "codemirror_mode": {
    "name": "ipython",
    "version": 3
   },
   "file_extension": ".py",
   "mimetype": "text/x-python",
   "name": "python",
   "nbconvert_exporter": "python",
   "pygments_lexer": "ipython3",
   "version": "3.10.9"
  }
 },
 "nbformat": 4,
 "nbformat_minor": 5
}
